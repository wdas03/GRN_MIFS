{
 "cells": [
  {
   "cell_type": "code",
   "execution_count": 24,
   "metadata": {},
   "outputs": [],
   "source": [
    "%load_ext autoreload \n",
    "%autoreload 2"
   ]
  },
  {
   "cell_type": "code",
   "execution_count": 2,
   "metadata": {},
   "outputs": [
    {
     "name": "stdout",
     "output_type": "stream",
     "text": [
      "{'G1': [('G6', 2.295820695417472), ('G7', 0.060800240543596784), ('G10', -1.3342779594776888), ('G2', -3.035621580183865)], 'G2': [('G1', 1.9419357554759569), ('G7', -0.061721214471731844), ('G10', -1.4567994144930172), ('G4', -3.1046326516105274)], 'G3': [('G6', 2.295820695417472), ('G7', 0.060800240543596784), ('G10', -1.3342779594776888), ('G2', -3.035621580183865)], 'G4': [('G6', 3.092456809337414), ('G7', -0.1459012356704612), ('G10', -1.5409794356917468), ('G2', -3.209808946270439)], 'G5': [('G6', 2.295820695417472), ('G7', 0.060800240543596784), ('G10', -1.3342779594776888), ('G2', -3.035621580183865)], 'G6': [('G4', 3.092456809337414), ('G2', 0.1725623367390039), ('G7', -1.3727220690952562), ('G10', -2.7678002691165418)], 'G7': [('G1', 1.5803445192374495), ('G10', -0.1852663192161641), ('G2', -1.941935755475957), ('G8', -3.7535636961558057)], 'G8': [('G1', 1.9419357554759569), ('G7', -0.061721214471731844), ('G10', -1.4567994144930172), ('G4', -3.1046326516105274)], 'G9': [('G6', 2.295820695417472), ('G7', 0.060800240543596784), ('G10', -1.3342779594776888), ('G2', -3.035621580183865)], 'G10': [('G1', 1.5803445192374495), ('G7', -0.1852663192161641), ('G2', -1.941935755475957), ('G8', -3.7535636961558057)]}\n",
      "['G1', 'G2', 'G3', 'G4', 'G5', 'G6', 'G7', 'G8', 'G9', 'G10']\n"
     ]
    }
   ],
   "source": [
    "import pandas as pd\n",
    "from grn_inference import *\n",
    "\n",
    "data = pd.read_csv(\"data/e_coli.csv\")\n",
    "data_dict = data.to_dict('list')\n",
    "\n",
    "gene_names = list(data_dict.keys())[1:]\n",
    "#print(data_dict)\n",
    "\n",
    "node_inp = {}\n",
    "\n",
    "k = 4\n",
    "\n",
    "for gene in gene_names:\n",
    "    inp_genes = [i for i in gene_names if i != gene]\n",
    "    \n",
    "    curr_inp = []\n",
    "\n",
    "    max_mi = max ([(i, mutual_info(data_dict[gene], data_dict[i])) for i in inp_genes], key = lambda x: x[1])\n",
    "    curr_inp.append(max_mi)\n",
    "    inp_genes = [g for g in inp_genes if g != max_mi[0]]\n",
    "\n",
    "    while len(curr_inp) < k:\n",
    "        new_max = max ([(w, mutual_info(data_dict[gene], data_dict[w]) - sum([mutual_info(data_dict[w], data_dict[s[0]]) for s in curr_inp])) for w in inp_genes], \n",
    "                        key = lambda x: x[1])\n",
    "        curr_inp.append(new_max)\n",
    "        inp_genes = [g for g in inp_genes if g != new_max[0]]\n",
    "    \n",
    "    node_inp[gene] = curr_inp\n",
    "\n",
    "for gene in gene_names:\n",
    "    selected_nodes = node_inp[gene]\n",
    "    unselected_nodes = list(set(gene_names) - set(selected_nodes))\n",
    "\n",
    "    \n",
    "    for i in selected_nodes:\n",
    "        for j in unselected_nodes:\n",
    "            pass\n",
    "    \n",
    "\n",
    "print(node_inp)\n",
    "print(gene_names)"
   ]
  }
 ],
 "metadata": {
  "kernelspec": {
   "display_name": "python39_ml",
   "language": "python",
   "name": "python3"
  },
  "language_info": {
   "codemirror_mode": {
    "name": "ipython",
    "version": 3
   },
   "file_extension": ".py",
   "mimetype": "text/x-python",
   "name": "python",
   "nbconvert_exporter": "python",
   "pygments_lexer": "ipython3",
   "version": "3.9.13"
  },
  "orig_nbformat": 4,
  "vscode": {
   "interpreter": {
    "hash": "4360e8f064855b4fcb38795ffd2255a277f510637fe27c22abe081b2aaf3d81b"
   }
  }
 },
 "nbformat": 4,
 "nbformat_minor": 2
}
