{
 "cells": [
  {
   "cell_type": "code",
   "execution_count": 11,
   "metadata": {},
   "outputs": [
    {
     "name": "stdout",
     "output_type": "stream",
     "text": [
      "The autoreload extension is already loaded. To reload it, use:\n",
      "  %reload_ext autoreload\n"
     ]
    }
   ],
   "source": [
    "%load_ext autoreload \n",
    "%autoreload 2"
   ]
  },
  {
   "cell_type": "code",
   "execution_count": 17,
   "metadata": {},
   "outputs": [
    {
     "name": "stdout",
     "output_type": "stream",
     "text": [
      "START ['Cdc2/Cdc13*', 'Slp1', 'SK', 'Ste9'] 1.0\n",
      "SK ['Cdc2/Cdc13*', 'Slp1', 'START', 'Ste9'] 1.0\n",
      "Cdc2/Cdc13 ['SK', 'START', 'Cdc25', 'Week1Mik1'] 0.5555555555555556\n",
      "Ste9 ['SK', 'START', 'Rum1', 'PP'] 0.8888888888888888\n",
      "Rum1 ['SK', 'START', 'Ste9', 'PP'] 0.8888888888888888\n",
      "Slp1 ['START', 'PP', 'Week1Mik1', 'Cdc2/Cdc13*'] 1.0\n",
      "Cdc2/Cdc13* ['START', 'Slp1', 'Cdc2/Cdc13', 'Cdc25'] 0.8888888888888888\n",
      "Week1Mik1 ['START', 'PP', 'Ste9', 'Rum1'] 0.8888888888888888\n",
      "Cdc25 ['SK', 'START', 'PP', 'Cdc2/Cdc13'] 1.0\n",
      "PP ['START', 'Slp1', 'Ste9', 'Cdc2/Cdc13*'] 0.8888888888888888\n"
     ]
    },
    {
     "data": {
      "text/plain": [
       "{'START': ['Cdc2/Cdc13*', 'Slp1', 'SK', 'Ste9'],\n",
       " 'SK': ['Cdc2/Cdc13*', 'Slp1', 'START', 'Ste9'],\n",
       " 'Cdc2/Cdc13': ['SK', 'START', 'Cdc25', 'Week1Mik1'],\n",
       " 'Ste9': ['SK', 'START', 'Rum1', 'PP'],\n",
       " 'Rum1': ['SK', 'START', 'Ste9', 'PP'],\n",
       " 'Slp1': ['START', 'PP', 'Week1Mik1', 'Cdc2/Cdc13*'],\n",
       " 'Cdc2/Cdc13*': ['START', 'Slp1', 'Cdc2/Cdc13', 'Cdc25'],\n",
       " 'Week1Mik1': ['START', 'PP', 'Ste9', 'Rum1'],\n",
       " 'Cdc25': ['SK', 'START', 'PP', 'Cdc2/Cdc13'],\n",
       " 'PP': ['START', 'Slp1', 'Ste9', 'Cdc2/Cdc13*']}"
      ]
     },
     "execution_count": 17,
     "metadata": {},
     "output_type": "execute_result"
    }
   ],
   "source": [
    "import pandas as pd\n",
    "from grn_inference import *\n",
    "\n",
    "data_dict = pd.read_csv(\"data/fission_yeast_cell_cycle.csv\").to_dict('list')\n",
    "mifs_swap(data_dict, 4)"
   ]
  }
 ],
 "metadata": {
  "kernelspec": {
   "display_name": "python39_ml",
   "language": "python",
   "name": "python3"
  },
  "language_info": {
   "codemirror_mode": {
    "name": "ipython",
    "version": 3
   },
   "file_extension": ".py",
   "mimetype": "text/x-python",
   "name": "python",
   "nbconvert_exporter": "python",
   "pygments_lexer": "ipython3",
   "version": "3.9.13"
  },
  "orig_nbformat": 4,
  "vscode": {
   "interpreter": {
    "hash": "4360e8f064855b4fcb38795ffd2255a277f510637fe27c22abe081b2aaf3d81b"
   }
  }
 },
 "nbformat": 4,
 "nbformat_minor": 2
}
