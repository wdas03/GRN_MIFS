{
 "cells": [
  {
   "cell_type": "code",
   "execution_count": 11,
   "metadata": {},
   "outputs": [
    {
     "name": "stdout",
     "output_type": "stream",
     "text": [
      "The autoreload extension is already loaded. To reload it, use:\n",
      "  %reload_ext autoreload\n"
     ]
    }
   ],
   "source": [
    "%load_ext autoreload \n",
    "%autoreload 2"
   ]
  },
  {
   "cell_type": "code",
   "execution_count": 12,
   "metadata": {},
   "outputs": [
    {
     "name": "stdout",
     "output_type": "stream",
     "text": [
      "G1 ['G7', 'G6', 'G3'] 0.95\n",
      "G2 ['G10', 'G1', 'G5'] 1.0\n",
      "G3 ['G7', 'G6', 'G1'] 0.95\n",
      "G4 ['G7', 'G6', 'G1'] 0.75\n",
      "G5 ['G7', 'G6', 'G8'] 1.0\n",
      "G6 ['G2', 'G4', 'G5', 'G10'] 0.75\n",
      "G7 ['G10', 'G1', 'G5'] 0.9\n",
      "G8 ['G10', 'G1', 'G5'] 1.0\n",
      "G9 ['G7', 'G6', 'G5', 'G8'] 1.0\n",
      "G10 ['G2', 'G7', 'G1'] 0.9\n"
     ]
    },
    {
     "data": {
      "text/plain": [
       "{'G1': ['G7', 'G6', 'G3'],\n",
       " 'G2': ['G10', 'G1', 'G5'],\n",
       " 'G3': ['G7', 'G6', 'G1'],\n",
       " 'G4': ['G7', 'G6', 'G1'],\n",
       " 'G5': ['G7', 'G6', 'G8'],\n",
       " 'G6': ['G2', 'G4', 'G5', 'G10'],\n",
       " 'G7': ['G10', 'G1', 'G5'],\n",
       " 'G8': ['G10', 'G1', 'G5'],\n",
       " 'G9': ['G7', 'G6', 'G5', 'G8'],\n",
       " 'G10': ['G2', 'G7', 'G1']}"
      ]
     },
     "execution_count": 12,
     "metadata": {},
     "output_type": "execute_result"
    }
   ],
   "source": [
    "import pandas as pd\n",
    "from grn_inference import *\n",
    "\n",
    "data_dict = pd.read_csv(\"data/e_coli.csv\").to_dict('list')\n",
    "mifs_swap(data_dict, 3)"
   ]
  }
 ],
 "metadata": {
  "kernelspec": {
   "display_name": "python39_ml",
   "language": "python",
   "name": "python3"
  },
  "language_info": {
   "codemirror_mode": {
    "name": "ipython",
    "version": 3
   },
   "file_extension": ".py",
   "mimetype": "text/x-python",
   "name": "python",
   "nbconvert_exporter": "python",
   "pygments_lexer": "ipython3",
   "version": "3.9.13"
  },
  "orig_nbformat": 4,
  "vscode": {
   "interpreter": {
    "hash": "4360e8f064855b4fcb38795ffd2255a277f510637fe27c22abe081b2aaf3d81b"
   }
  }
 },
 "nbformat": 4,
 "nbformat_minor": 2
}
